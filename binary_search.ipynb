{
 "cells": [
  {
   "cell_type": "code",
   "execution_count": 4,
   "metadata": {},
   "outputs": [
    {
     "ename": "KeyboardInterrupt",
     "evalue": "",
     "output_type": "error",
     "traceback": [
      "\u001b[0;31m---------------------------------------------------------------------------\u001b[0m",
      "\u001b[0;31mKeyboardInterrupt\u001b[0m                         Traceback (most recent call last)",
      "Cell \u001b[0;32mIn [4], line 24\u001b[0m\n\u001b[1;32m     20\u001b[0m         \u001b[39mprint\u001b[39m(\u001b[39m\"\u001b[39m\u001b[39mTarget not found in list\u001b[39m\u001b[39m\"\u001b[39m)\n\u001b[1;32m     22\u001b[0m numbers \u001b[39m=\u001b[39m [\u001b[39m1\u001b[39m,\u001b[39m2\u001b[39m,\u001b[39m3\u001b[39m,\u001b[39m4\u001b[39m,\u001b[39m5\u001b[39m,\u001b[39m6\u001b[39m,\u001b[39m7\u001b[39m,\u001b[39m8\u001b[39m,\u001b[39m9\u001b[39m,\u001b[39m10\u001b[39m]\n\u001b[0;32m---> 24\u001b[0m result \u001b[39m=\u001b[39m binary_search(numbers,\u001b[39m12\u001b[39;49m)\n\u001b[1;32m     25\u001b[0m verify(result)\n\u001b[1;32m     27\u001b[0m result \u001b[39m=\u001b[39m binary_search(numbers,\u001b[39m10\u001b[39m)\n",
      "Cell \u001b[0;32mIn [4], line 5\u001b[0m, in \u001b[0;36mbinary_search\u001b[0;34m(list, target)\u001b[0m\n\u001b[1;32m      2\u001b[0m first \u001b[39m=\u001b[39m \u001b[39m0\u001b[39m\n\u001b[1;32m      3\u001b[0m last \u001b[39m=\u001b[39m \u001b[39mlen\u001b[39m(\u001b[39mlist\u001b[39m) \u001b[39m-\u001b[39m \u001b[39m1\u001b[39m\n\u001b[0;32m----> 5\u001b[0m \u001b[39mwhile\u001b[39;00m first \u001b[39m<\u001b[39m\u001b[39m=\u001b[39m last:\n\u001b[1;32m      6\u001b[0m     midpoint \u001b[39m=\u001b[39m (first \u001b[39m+\u001b[39m last) \u001b[39m/\u001b[39m\u001b[39m/\u001b[39m \u001b[39m2\u001b[39m\n\u001b[1;32m      7\u001b[0m \u001b[39mif\u001b[39;00m \u001b[39mlist\u001b[39m[midpoint] \u001b[39m==\u001b[39m target:\n",
      "\u001b[0;31mKeyboardInterrupt\u001b[0m: "
     ]
    }
   ],
   "source": [
    "def binary_search(list,target):\n",
    "    first = 0\n",
    "    last = len(list) - 1\n",
    "\n",
    "    while first <= last:\n",
    "        midpoint = (first + last) // 2\n",
    "    if list[midpoint] == target:\n",
    "        return midpoint\n",
    "    elif list[midpoint] < target: \n",
    "        first = midpoint + 1\n",
    "    else:\n",
    "        last = midpoint - 1 \n",
    "\n",
    "    return None\n",
    "\n",
    "def verify(index):\n",
    "    if index is not None:\n",
    "        print(\"Target found at index: \", index)\n",
    "    else:\n",
    "        print(\"Target not found in list\")\n",
    "\n",
    "numbers = [1,2,3,4,5,6,7,8,9,10]\n",
    "\n",
    "result = binary_search(numbers,12)\n",
    "verify(result)\n",
    "\n",
    "result = binary_search(numbers,10)\n",
    "verify(result)\n"
   ]
  }
 ],
 "metadata": {
  "kernelspec": {
   "display_name": "Python 3.10.6 64-bit",
   "language": "python",
   "name": "python3"
  },
  "language_info": {
   "codemirror_mode": {
    "name": "ipython",
    "version": 3
   },
   "file_extension": ".py",
   "mimetype": "text/x-python",
   "name": "python",
   "nbconvert_exporter": "python",
   "pygments_lexer": "ipython3",
   "version": "3.10.6"
  },
  "orig_nbformat": 4,
  "vscode": {
   "interpreter": {
    "hash": "aee8b7b246df8f9039afb4144a1f6fd8d2ca17a180786b69acc140d282b71a49"
   }
  }
 },
 "nbformat": 4,
 "nbformat_minor": 2
}
